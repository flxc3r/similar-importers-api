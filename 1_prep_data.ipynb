{
 "cells": [
  {
   "cell_type": "code",
   "execution_count": 1,
   "metadata": {},
   "outputs": [
    {
     "name": "stdout",
     "output_type": "stream",
     "text": [
      "sys version: 3.7.1 (default, Dec 10 2018, 22:54:23) [MSC v.1915 64 bit (AMD64)]\n",
      "pandas version: 0.23.4\n"
     ]
    }
   ],
   "source": [
    "import sys\n",
    "print(\"sys version:\", sys.version)\n",
    "import pandas as pd\n",
    "pd.options.display.max_colwidth\n",
    "print(\"pandas version:\", pd.__version__)"
   ]
  },
  {
   "cell_type": "markdown",
   "metadata": {},
   "source": [
    "# import"
   ]
  },
  {
   "cell_type": "code",
   "execution_count": 2,
   "metadata": {},
   "outputs": [],
   "source": [
    "prod = pd.read_csv('data/HS6Description2016.csv', encoding = \"ISO-8859-1\", dtype=str)\n",
    "importers = pd.read_csv('data/MajorImportersbyHS62016.csv', encoding = \"ISO-8859-1\", dtype=str)"
   ]
  },
  {
   "cell_type": "code",
   "execution_count": 3,
   "metadata": {},
   "outputs": [],
   "source": [
    "prod.drop('DESCRIPTION_FRA',axis=1, inplace=True)\n",
    "prod.columns = [\"hs6\", \"product\"]\n",
    "prod.set_index('hs6', inplace=True)"
   ]
  },
  {
   "cell_type": "code",
   "execution_count": 4,
   "metadata": {},
   "outputs": [
    {
     "data": {
      "text/html": [
       "<div>\n",
       "<style scoped>\n",
       "    .dataframe tbody tr th:only-of-type {\n",
       "        vertical-align: middle;\n",
       "    }\n",
       "\n",
       "    .dataframe tbody tr th {\n",
       "        vertical-align: top;\n",
       "    }\n",
       "\n",
       "    .dataframe thead th {\n",
       "        text-align: right;\n",
       "    }\n",
       "</style>\n",
       "<table border=\"1\" class=\"dataframe\">\n",
       "  <thead>\n",
       "    <tr style=\"text-align: right;\">\n",
       "      <th></th>\n",
       "      <th>product</th>\n",
       "    </tr>\n",
       "    <tr>\n",
       "      <th>hs6</th>\n",
       "      <th></th>\n",
       "    </tr>\n",
       "  </thead>\n",
       "  <tbody>\n",
       "    <tr>\n",
       "      <th>970200</th>\n",
       "      <td>Original Engravings, Prints And Lithographs</td>\n",
       "    </tr>\n",
       "    <tr>\n",
       "      <th>970300</th>\n",
       "      <td>Original Sculptures And Statuary In Any Material</td>\n",
       "    </tr>\n",
       "    <tr>\n",
       "      <th>970400</th>\n",
       "      <td>Used Postage Or Revenue Stamps And The Like Or...</td>\n",
       "    </tr>\n",
       "    <tr>\n",
       "      <th>970500</th>\n",
       "      <td>Collections, Collector`S Pieces Of Various Sci...</td>\n",
       "    </tr>\n",
       "    <tr>\n",
       "      <th>970600</th>\n",
       "      <td>Antiques Of An Age Exceeding One Hundred Years</td>\n",
       "    </tr>\n",
       "  </tbody>\n",
       "</table>\n",
       "</div>"
      ],
      "text/plain": [
       "                                                  product\n",
       "hs6                                                      \n",
       "970200        Original Engravings, Prints And Lithographs\n",
       "970300   Original Sculptures And Statuary In Any Material\n",
       "970400  Used Postage Or Revenue Stamps And The Like Or...\n",
       "970500  Collections, Collector`S Pieces Of Various Sci...\n",
       "970600     Antiques Of An Age Exceeding One Hundred Years"
      ]
     },
     "execution_count": 4,
     "metadata": {},
     "output_type": "execute_result"
    }
   ],
   "source": [
    "prod.tail()"
   ]
  },
  {
   "cell_type": "code",
   "execution_count": 5,
   "metadata": {},
   "outputs": [
    {
     "name": "stdout",
     "output_type": "stream",
     "text": [
      "hs6\n",
      "970500    Collections, Collector`S Pieces Of Various Sci...\n",
      "Name: product, dtype: object\n"
     ]
    }
   ],
   "source": [
    "print(prod[prod.index==\"970500\"]['product'])"
   ]
  },
  {
   "cell_type": "code",
   "execution_count": 6,
   "metadata": {},
   "outputs": [
    {
     "data": {
      "text/plain": [
       "(5121, 1)"
      ]
     },
     "execution_count": 6,
     "metadata": {},
     "output_type": "execute_result"
    }
   ],
   "source": [
    "prod.shape"
   ]
  },
  {
   "cell_type": "code",
   "execution_count": 7,
   "metadata": {},
   "outputs": [],
   "source": [
    "importers.drop(\"PROVINCE_FRA\", axis=1, inplace=True)\n",
    "importers.drop(\"DATA_YEAR-ANNÉE_DES_DONNÉES\",axis=1, inplace=True)\n",
    "importers.columns = [\"hs6\", \"importer\", \"city\", \"province\", \"postalcode\"]\n",
    "importers[\"importer\"] = importers[\"importer\"].str.upper()\n",
    "importers.set_index([\"importer\", \"hs6\"], inplace=True)"
   ]
  },
  {
   "cell_type": "code",
   "execution_count": 8,
   "metadata": {},
   "outputs": [
    {
     "data": {
      "text/html": [
       "<div>\n",
       "<style scoped>\n",
       "    .dataframe tbody tr th:only-of-type {\n",
       "        vertical-align: middle;\n",
       "    }\n",
       "\n",
       "    .dataframe tbody tr th {\n",
       "        vertical-align: top;\n",
       "    }\n",
       "\n",
       "    .dataframe thead th {\n",
       "        text-align: right;\n",
       "    }\n",
       "</style>\n",
       "<table border=\"1\" class=\"dataframe\">\n",
       "  <thead>\n",
       "    <tr style=\"text-align: right;\">\n",
       "      <th></th>\n",
       "      <th></th>\n",
       "      <th>city</th>\n",
       "      <th>province</th>\n",
       "      <th>postalcode</th>\n",
       "    </tr>\n",
       "    <tr>\n",
       "      <th>importer</th>\n",
       "      <th>hs6</th>\n",
       "      <th></th>\n",
       "      <th></th>\n",
       "      <th></th>\n",
       "    </tr>\n",
       "  </thead>\n",
       "  <tbody>\n",
       "    <tr>\n",
       "      <th>9072-9435 QUEBEC INC.</th>\n",
       "      <th>010121</th>\n",
       "      <td>Saint-Marc-sur-Richelieu</td>\n",
       "      <td>Quebec</td>\n",
       "      <td>J0L 2E0</td>\n",
       "    </tr>\n",
       "    <tr>\n",
       "      <th>CAMELOT STABLES</th>\n",
       "      <th>010121</th>\n",
       "      <td>Delta</td>\n",
       "      <td>British Columbia</td>\n",
       "      <td>V4K 1S9</td>\n",
       "    </tr>\n",
       "    <tr>\n",
       "      <th>COUNTRY LANE FARM</th>\n",
       "      <th>010121</th>\n",
       "      <td>Delta</td>\n",
       "      <td>British Columbia</td>\n",
       "      <td>V4K 3N2</td>\n",
       "    </tr>\n",
       "    <tr>\n",
       "      <th>FOXTRAIL FARMS</th>\n",
       "      <th>010121</th>\n",
       "      <td>Okotoks</td>\n",
       "      <td>Alberta</td>\n",
       "      <td>T1S 1A1</td>\n",
       "    </tr>\n",
       "    <tr>\n",
       "      <th>HOERDT'S HOT SHOT SERVICE LTD.</th>\n",
       "      <th>010121</th>\n",
       "      <td>Beaumont</td>\n",
       "      <td>Alberta</td>\n",
       "      <td>T4X 1H9</td>\n",
       "    </tr>\n",
       "  </tbody>\n",
       "</table>\n",
       "</div>"
      ],
      "text/plain": [
       "                                                           city  \\\n",
       "importer                       hs6                                \n",
       "9072-9435 QUEBEC INC.          010121  Saint-Marc-sur-Richelieu   \n",
       "CAMELOT STABLES                010121                     Delta   \n",
       "COUNTRY LANE FARM              010121                     Delta   \n",
       "FOXTRAIL FARMS                 010121                   Okotoks   \n",
       "HOERDT'S HOT SHOT SERVICE LTD. 010121                  Beaumont   \n",
       "\n",
       "                                               province postalcode  \n",
       "importer                       hs6                                  \n",
       "9072-9435 QUEBEC INC.          010121            Quebec    J0L 2E0  \n",
       "CAMELOT STABLES                010121  British Columbia    V4K 1S9  \n",
       "COUNTRY LANE FARM              010121  British Columbia    V4K 3N2  \n",
       "FOXTRAIL FARMS                 010121           Alberta    T1S 1A1  \n",
       "HOERDT'S HOT SHOT SERVICE LTD. 010121           Alberta    T4X 1H9  "
      ]
     },
     "execution_count": 8,
     "metadata": {},
     "output_type": "execute_result"
    }
   ],
   "source": [
    "importers.head()"
   ]
  },
  {
   "cell_type": "code",
   "execution_count": 9,
   "metadata": {},
   "outputs": [
    {
     "data": {
      "text/plain": [
       "(108900, 3)"
      ]
     },
     "execution_count": 9,
     "metadata": {},
     "output_type": "execute_result"
    }
   ],
   "source": [
    "importers.shape"
   ]
  },
  {
   "cell_type": "markdown",
   "metadata": {},
   "source": [
    "# Create similarity matrix"
   ]
  },
  {
   "cell_type": "code",
   "execution_count": 10,
   "metadata": {},
   "outputs": [],
   "source": [
    "sim_matrix = importers.sort_index().reset_index()[[\"importer\", \"hs6\"]]\n",
    "sim_matrix[\"_agg\"] = 1"
   ]
  },
  {
   "cell_type": "code",
   "execution_count": 11,
   "metadata": {},
   "outputs": [
    {
     "name": "stdout",
     "output_type": "stream",
     "text": [
      "unique importers: 30530\n"
     ]
    }
   ],
   "source": [
    "print(\"unique importers:\", sim_matrix.importer.nunique())"
   ]
  },
  {
   "cell_type": "code",
   "execution_count": 12,
   "metadata": {},
   "outputs": [
    {
     "name": "stdout",
     "output_type": "stream",
     "text": [
      "Wall time: 3.84 s\n"
     ]
    }
   ],
   "source": [
    "%%time\n",
    "sim_matrix = sim_matrix.pivot_table(index=\"importer\", columns=\"hs6\", values=\"_agg\", aggfunc=min)"
   ]
  },
  {
   "cell_type": "code",
   "execution_count": 13,
   "metadata": {},
   "outputs": [
    {
     "data": {
      "text/html": [
       "<div>\n",
       "<style scoped>\n",
       "    .dataframe tbody tr th:only-of-type {\n",
       "        vertical-align: middle;\n",
       "    }\n",
       "\n",
       "    .dataframe tbody tr th {\n",
       "        vertical-align: top;\n",
       "    }\n",
       "\n",
       "    .dataframe thead th {\n",
       "        text-align: right;\n",
       "    }\n",
       "</style>\n",
       "<table border=\"1\" class=\"dataframe\">\n",
       "  <thead>\n",
       "    <tr style=\"text-align: right;\">\n",
       "      <th>hs6</th>\n",
       "      <th>970200</th>\n",
       "      <th>970300</th>\n",
       "      <th>970400</th>\n",
       "      <th>970500</th>\n",
       "      <th>970600</th>\n",
       "    </tr>\n",
       "    <tr>\n",
       "      <th>importer</th>\n",
       "      <th></th>\n",
       "      <th></th>\n",
       "      <th></th>\n",
       "      <th></th>\n",
       "      <th></th>\n",
       "    </tr>\n",
       "  </thead>\n",
       "  <tbody>\n",
       "    <tr>\n",
       "      <th>#1 ANTIQUE WAREHOUSE FURNISHINGS LTD.</th>\n",
       "      <td>NaN</td>\n",
       "      <td>NaN</td>\n",
       "      <td>NaN</td>\n",
       "      <td>NaN</td>\n",
       "      <td>1.0</td>\n",
       "    </tr>\n",
       "    <tr>\n",
       "      <th>#1 APPAREL</th>\n",
       "      <td>NaN</td>\n",
       "      <td>NaN</td>\n",
       "      <td>NaN</td>\n",
       "      <td>NaN</td>\n",
       "      <td>NaN</td>\n",
       "    </tr>\n",
       "    <tr>\n",
       "      <th>0 WASTE 2 ENERGY CANADA LTD.</th>\n",
       "      <td>NaN</td>\n",
       "      <td>NaN</td>\n",
       "      <td>NaN</td>\n",
       "      <td>NaN</td>\n",
       "      <td>NaN</td>\n",
       "    </tr>\n",
       "    <tr>\n",
       "      <th>0021567 B.C. LTD.</th>\n",
       "      <td>NaN</td>\n",
       "      <td>NaN</td>\n",
       "      <td>NaN</td>\n",
       "      <td>NaN</td>\n",
       "      <td>NaN</td>\n",
       "    </tr>\n",
       "    <tr>\n",
       "      <th>0187993 MANITOBA LIMITED</th>\n",
       "      <td>NaN</td>\n",
       "      <td>NaN</td>\n",
       "      <td>NaN</td>\n",
       "      <td>NaN</td>\n",
       "      <td>NaN</td>\n",
       "    </tr>\n",
       "  </tbody>\n",
       "</table>\n",
       "</div>"
      ],
      "text/plain": [
       "hs6                                    970200  970300  970400  970500  970600\n",
       "importer                                                                     \n",
       "#1 ANTIQUE WAREHOUSE FURNISHINGS LTD.     NaN     NaN     NaN     NaN     1.0\n",
       "#1 APPAREL                                NaN     NaN     NaN     NaN     NaN\n",
       "0 WASTE 2 ENERGY CANADA LTD.              NaN     NaN     NaN     NaN     NaN\n",
       "0021567 B.C. LTD.                         NaN     NaN     NaN     NaN     NaN\n",
       "0187993 MANITOBA LIMITED                  NaN     NaN     NaN     NaN     NaN"
      ]
     },
     "execution_count": 13,
     "metadata": {},
     "output_type": "execute_result"
    }
   ],
   "source": [
    "sim_matrix.iloc[0:5, -5:]"
   ]
  },
  {
   "cell_type": "code",
   "execution_count": 14,
   "metadata": {},
   "outputs": [
    {
     "data": {
      "text/plain": [
       "80"
      ]
     },
     "execution_count": 14,
     "metadata": {},
     "output_type": "execute_result"
    }
   ],
   "source": [
    "# number of importers who imported 970600?\n",
    "sim_matrix[sim_matrix[\"970600\"]==1].index.size"
   ]
  },
  {
   "cell_type": "code",
   "execution_count": 15,
   "metadata": {},
   "outputs": [],
   "source": [
    "from scipy.spatial.distance import pdist,squareform"
   ]
  },
  {
   "cell_type": "code",
   "execution_count": 16,
   "metadata": {},
   "outputs": [],
   "source": [
    "def build_matrix(data, metric):\n",
    "    return pd.DataFrame(squareform(pdist(data, metric=metric)))"
   ]
  },
  {
   "cell_type": "code",
   "execution_count": null,
   "metadata": {},
   "outputs": [],
   "source": [
    "%%time\n",
    "dist_matrix = build_matrix(data=sim_matrix.fillna(0), metric='jaccard')"
   ]
  },
  {
   "cell_type": "markdown",
   "metadata": {},
   "source": [
    "About jaccard distance: https://www.statisticshowto.datasciencecentral.com/jaccard-index/"
   ]
  },
  {
   "cell_type": "code",
   "execution_count": 30,
   "metadata": {},
   "outputs": [],
   "source": [
    "idx = sim_matrix.index.values"
   ]
  },
  {
   "cell_type": "code",
   "execution_count": 78,
   "metadata": {},
   "outputs": [],
   "source": [
    "pd.Series(idx).to_pickle(\"data/importer_ids.pkl\")"
   ]
  },
  {
   "cell_type": "code",
   "execution_count": null,
   "metadata": {},
   "outputs": [],
   "source": [
    "# dist_matrix.set_index(idx, inplace=True)\n",
    "# dist_matrix.columns = idx"
   ]
  },
  {
   "cell_type": "code",
   "execution_count": 20,
   "metadata": {},
   "outputs": [
    {
     "data": {
      "text/html": [
       "<div>\n",
       "<style scoped>\n",
       "    .dataframe tbody tr th:only-of-type {\n",
       "        vertical-align: middle;\n",
       "    }\n",
       "\n",
       "    .dataframe tbody tr th {\n",
       "        vertical-align: top;\n",
       "    }\n",
       "\n",
       "    .dataframe thead th {\n",
       "        text-align: right;\n",
       "    }\n",
       "</style>\n",
       "<table border=\"1\" class=\"dataframe\">\n",
       "  <thead>\n",
       "    <tr style=\"text-align: right;\">\n",
       "      <th></th>\n",
       "      <th>0</th>\n",
       "      <th>1</th>\n",
       "      <th>2</th>\n",
       "      <th>3</th>\n",
       "      <th>4</th>\n",
       "      <th>5</th>\n",
       "    </tr>\n",
       "  </thead>\n",
       "  <tbody>\n",
       "    <tr>\n",
       "      <th>0</th>\n",
       "      <td>0.0</td>\n",
       "      <td>1.000000</td>\n",
       "      <td>1.0</td>\n",
       "      <td>1.0</td>\n",
       "      <td>1.000000</td>\n",
       "      <td>1.0</td>\n",
       "    </tr>\n",
       "    <tr>\n",
       "      <th>1</th>\n",
       "      <td>1.0</td>\n",
       "      <td>0.000000</td>\n",
       "      <td>1.0</td>\n",
       "      <td>1.0</td>\n",
       "      <td>0.952381</td>\n",
       "      <td>1.0</td>\n",
       "    </tr>\n",
       "    <tr>\n",
       "      <th>2</th>\n",
       "      <td>1.0</td>\n",
       "      <td>1.000000</td>\n",
       "      <td>0.0</td>\n",
       "      <td>1.0</td>\n",
       "      <td>1.000000</td>\n",
       "      <td>1.0</td>\n",
       "    </tr>\n",
       "    <tr>\n",
       "      <th>3</th>\n",
       "      <td>1.0</td>\n",
       "      <td>1.000000</td>\n",
       "      <td>1.0</td>\n",
       "      <td>0.0</td>\n",
       "      <td>1.000000</td>\n",
       "      <td>1.0</td>\n",
       "    </tr>\n",
       "    <tr>\n",
       "      <th>4</th>\n",
       "      <td>1.0</td>\n",
       "      <td>0.952381</td>\n",
       "      <td>1.0</td>\n",
       "      <td>1.0</td>\n",
       "      <td>0.000000</td>\n",
       "      <td>1.0</td>\n",
       "    </tr>\n",
       "    <tr>\n",
       "      <th>5</th>\n",
       "      <td>1.0</td>\n",
       "      <td>1.000000</td>\n",
       "      <td>1.0</td>\n",
       "      <td>1.0</td>\n",
       "      <td>1.000000</td>\n",
       "      <td>0.0</td>\n",
       "    </tr>\n",
       "  </tbody>\n",
       "</table>\n",
       "</div>"
      ],
      "text/plain": [
       "     0         1    2    3         4    5\n",
       "0  0.0  1.000000  1.0  1.0  1.000000  1.0\n",
       "1  1.0  0.000000  1.0  1.0  0.952381  1.0\n",
       "2  1.0  1.000000  0.0  1.0  1.000000  1.0\n",
       "3  1.0  1.000000  1.0  0.0  1.000000  1.0\n",
       "4  1.0  0.952381  1.0  1.0  0.000000  1.0\n",
       "5  1.0  1.000000  1.0  1.0  1.000000  0.0"
      ]
     },
     "execution_count": 20,
     "metadata": {},
     "output_type": "execute_result"
    }
   ],
   "source": [
    "dist_matrix.loc[:5, :5]"
   ]
  },
  {
   "cell_type": "code",
   "execution_count": null,
   "metadata": {},
   "outputs": [],
   "source": [
    "# comp = [\"#1 ANTIQUE WAREHOUSE FURNISHINGS LTD.\", \"A & A CONTRACT CUSTOMS BROKERS LTD.\", \n",
    "#         \"ACU PLASMOLD INC.\", \"CARGILL LIMITED\"]\n",
    "\n",
    "# dist_matrix.loc[comp, comp]"
   ]
  },
  {
   "cell_type": "markdown",
   "metadata": {},
   "source": [
    "Store the matrix on disk as-is, in the CSV format"
   ]
  },
  {
   "cell_type": "code",
   "execution_count": 21,
   "metadata": {},
   "outputs": [],
   "source": [
    "dist_matrix.to_csv(\"data/distance_matrix_with_imp_ids.csv\")"
   ]
  },
  {
   "cell_type": "markdown",
   "metadata": {},
   "source": [
    "Disk space: 3.7 GB.\n",
    "\n",
    "Now, save a sparse matrix in pickle format:"
   ]
  },
  {
   "cell_type": "code",
   "execution_count": 73,
   "metadata": {},
   "outputs": [
    {
     "name": "stdout",
     "output_type": "stream",
     "text": [
      "Wall time: 2min 18s\n"
     ]
    }
   ],
   "source": [
    "%%time\n",
    "dist_matrix.to_sparse(fill_value=1.0).to_pickle(\"data/dist_matrix_with_imp_ids_sparse.pkl\")"
   ]
  },
  {
   "cell_type": "markdown",
   "metadata": {},
   "source": [
    "138MB on disk, which means ~96% disk space reduction when compared to storing non-sparse data as CSV...!"
   ]
  },
  {
   "cell_type": "code",
   "execution_count": 79,
   "metadata": {},
   "outputs": [
    {
     "name": "stdout",
     "output_type": "stream",
     "text": [
      "Wall time: 0 ns\n"
     ]
    }
   ],
   "source": [
    "%%time\n",
    "del dist_matrix\n",
    "del sim_matrix"
   ]
  },
  {
   "cell_type": "markdown",
   "metadata": {},
   "source": [
    "--------------------"
   ]
  },
  {
   "cell_type": "markdown",
   "metadata": {},
   "source": [
    "## tests -- can ignore"
   ]
  },
  {
   "cell_type": "code",
   "execution_count": 22,
   "metadata": {},
   "outputs": [],
   "source": [
    "def similar_importers(importer, n=None):\n",
    "    distances = dist_matrix.loc[(dist_matrix.index!=importer), importer]\n",
    "    if n is None:\n",
    "        return distances[distances<1].sort_values()\n",
    "    else:\n",
    "        n_to_return = min(n, distances[distances<1].size)\n",
    "        return distances[distances<1].sort_values()[0:n_to_return]"
   ]
  },
  {
   "cell_type": "code",
   "execution_count": 46,
   "metadata": {},
   "outputs": [],
   "source": [
    "def imp_to_id(importer):\n",
    "    ser = pd.Series(range(len(sim_matrix.index.values)), sim_matrix.index.values)\n",
    "    return ser[ser.index.values==importer][0]\n",
    "\n",
    "def id_to_imp(imp_id):\n",
    "    ser = pd.Series(sim_matrix.index.values)\n",
    "    return ser[imp_id]"
   ]
  },
  {
   "cell_type": "code",
   "execution_count": 58,
   "metadata": {},
   "outputs": [
    {
     "data": {
      "text/plain": [
       "5400"
      ]
     },
     "execution_count": 58,
     "metadata": {},
     "output_type": "execute_result"
    }
   ],
   "source": [
    "imp_to_id(\"CARGILL LIMITED\")"
   ]
  },
  {
   "cell_type": "code",
   "execution_count": 47,
   "metadata": {},
   "outputs": [
    {
     "data": {
      "text/plain": [
       "'CARGILL LIMITED'"
      ]
     },
     "execution_count": 47,
     "metadata": {},
     "output_type": "execute_result"
    }
   ],
   "source": [
    "id_to_imp(5400)"
   ]
  },
  {
   "cell_type": "code",
   "execution_count": 48,
   "metadata": {},
   "outputs": [
    {
     "data": {
      "text/plain": [
       "3323     0.830986\n",
       "4568     0.859375\n",
       "18865    0.863014\n",
       "14423    0.879310\n",
       "16118    0.890244\n",
       "Name: 5400, dtype: float64"
      ]
     },
     "execution_count": 48,
     "metadata": {},
     "output_type": "execute_result"
    }
   ],
   "source": [
    "similar_importers(imp_to_id(\"CARGILL LIMITED\"), 5)"
   ]
  },
  {
   "cell_type": "code",
   "execution_count": 54,
   "metadata": {},
   "outputs": [],
   "source": [
    "def similar_importers_names(importer_name, n=None):\n",
    "    return [id_to_imp(i) for i in similar_importers(imp_to_id(importer_name), n).index]"
   ]
  },
  {
   "cell_type": "code",
   "execution_count": 56,
   "metadata": {},
   "outputs": [
    {
     "data": {
      "text/plain": [
       "['BARRY CALLEBAUT CANADA INC.',\n",
       " 'BUNGE CANADA',\n",
       " 'MTC ANIMAL HEALTH DIVISION',\n",
       " 'JBS FOOD CANADA ULC',\n",
       " 'LES ALIMENTS MULTIBAR INC.']"
      ]
     },
     "execution_count": 56,
     "metadata": {},
     "output_type": "execute_result"
    }
   ],
   "source": [
    "similar_importers_names(\"CARGILL LIMITED\", 5)"
   ]
  },
  {
   "cell_type": "code",
   "execution_count": 53,
   "metadata": {},
   "outputs": [
    {
     "data": {
      "text/plain": [
       "Index(['STARBUCKS COFFEE CANADA, INC.', 'STARBUCKS CORPORATION'], dtype='object', name='importer')"
      ]
     },
     "execution_count": 53,
     "metadata": {},
     "output_type": "execute_result"
    }
   ],
   "source": [
    "sim_matrix.index[sim_matrix.index.str.contains(\"STARBUC\")]"
   ]
  },
  {
   "cell_type": "code",
   "execution_count": 57,
   "metadata": {},
   "outputs": [
    {
     "data": {
      "text/plain": [
       "['KEURIG CANADA INC.',\n",
       " 'MAIDSTONE COFFEE CANADA',\n",
       " 'DAVIDSTEA INC.',\n",
       " 'GFS-MILTON',\n",
       " 'WILTON INDUSTRIES CANADA COMPANY',\n",
       " 'BED BATH & BEYOND CANADA L.P.',\n",
       " 'NESTLE CANADA-HEAD OFFICE',\n",
       " 'BUNZL CANADA INC.',\n",
       " 'UNILEVER COSMETICS INTERNATIONAL CANADA',\n",
       " 'KRAFT CANADA DON MILLS']"
      ]
     },
     "execution_count": 57,
     "metadata": {},
     "output_type": "execute_result"
    }
   ],
   "source": [
    "similar_importers_names(\"STARBUCKS COFFEE CANADA, INC.\", 10)"
   ]
  },
  {
   "cell_type": "code",
   "execution_count": null,
   "metadata": {},
   "outputs": [],
   "source": []
  },
  {
   "cell_type": "code",
   "execution_count": null,
   "metadata": {},
   "outputs": [],
   "source": []
  },
  {
   "cell_type": "code",
   "execution_count": null,
   "metadata": {},
   "outputs": [],
   "source": [
    "similar_importers(\"#1 ANTIQUE WAREHOUSE FURNISHINGS LTD.\", 10)"
   ]
  },
  {
   "cell_type": "code",
   "execution_count": null,
   "metadata": {},
   "outputs": [],
   "source": [
    "comp = [\"#1 ANTIQUE WAREHOUSE FURNISHINGS LTD.\", \"604612 ONTARIO INC.\", \n",
    "        \"A & A CONTRACT CUSTOMS BROKERS LTD.\", \"ACU PLASMOLD INC.\", \"CARGILL LIMITED\"]\n",
    "#(1-dist_matrix).loc[comp, comp]\n",
    "dist_matrix.loc[comp, comp]"
   ]
  },
  {
   "cell_type": "code",
   "execution_count": null,
   "metadata": {},
   "outputs": [],
   "source": [
    "imp = importers.reset_index()\n",
    "def get_products(importer):\n",
    "    return set(imp.loc[imp.importer==importer, \"hs6\"])\n",
    "\n",
    "def get_product_names(importer):\n",
    "    return set(prod[prod.index.isin(get_products(importer))][\"product\"])"
   ]
  },
  {
   "cell_type": "code",
   "execution_count": null,
   "metadata": {},
   "outputs": [],
   "source": [
    "for i in comp:\n",
    "    print(\"------>\", i)\n",
    "    for p in pd.Series(list(get_product_names(i))).sort_values():\n",
    "        print(\"   \", p)\n",
    "    print(\"\")"
   ]
  },
  {
   "cell_type": "code",
   "execution_count": null,
   "metadata": {},
   "outputs": [],
   "source": [
    "get_product_names(\"604612 ONTARIO INC.\")"
   ]
  },
  {
   "cell_type": "code",
   "execution_count": null,
   "metadata": {},
   "outputs": [],
   "source": [
    "get_product_names(\"2161587 ONTARIO INC.\")"
   ]
  },
  {
   "cell_type": "code",
   "execution_count": null,
   "metadata": {},
   "outputs": [],
   "source": [
    "get_product_names(\"2267106 ONTARIO INC.\")"
   ]
  }
 ],
 "metadata": {
  "kernelspec": {
   "display_name": "Python 3",
   "language": "python",
   "name": "python3"
  },
  "language_info": {
   "codemirror_mode": {
    "name": "ipython",
    "version": 3
   },
   "file_extension": ".py",
   "mimetype": "text/x-python",
   "name": "python",
   "nbconvert_exporter": "python",
   "pygments_lexer": "ipython3",
   "version": "3.7.1"
  }
 },
 "nbformat": 4,
 "nbformat_minor": 2
}
